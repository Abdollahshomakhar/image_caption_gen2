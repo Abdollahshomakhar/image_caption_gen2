{
  "nbformat": 4,
  "nbformat_minor": 0,
  "metadata": {
    "colab": {
      "provenance": [],
      "gpuType": "T4"
    },
    "kernelspec": {
      "name": "python3",
      "display_name": "Python 3"
    },
    "language_info": {
      "name": "python"
    },
    "accelerator": "GPU",
    "widgets": {
      "application/vnd.jupyter.widget-state+json": {
        "f8ced45ffd0f47fdb18ac83a26fc5905": {
          "model_module": "@jupyter-widgets/controls",
          "model_name": "HBoxModel",
          "model_module_version": "1.5.0",
          "state": {
            "_dom_classes": [],
            "_model_module": "@jupyter-widgets/controls",
            "_model_module_version": "1.5.0",
            "_model_name": "HBoxModel",
            "_view_count": null,
            "_view_module": "@jupyter-widgets/controls",
            "_view_module_version": "1.5.0",
            "_view_name": "HBoxView",
            "box_style": "",
            "children": [
              "IPY_MODEL_da03d8849da74e59924c3f3552153702",
              "IPY_MODEL_d656f5d2595448e9bbdf61b1dd5623ad",
              "IPY_MODEL_f138a057593f4714b31a8773ca1ff05a"
            ],
            "layout": "IPY_MODEL_6d0f0d3930b14c67a5fab4bc137cb35f"
          }
        },
        "da03d8849da74e59924c3f3552153702": {
          "model_module": "@jupyter-widgets/controls",
          "model_name": "HTMLModel",
          "model_module_version": "1.5.0",
          "state": {
            "_dom_classes": [],
            "_model_module": "@jupyter-widgets/controls",
            "_model_module_version": "1.5.0",
            "_model_name": "HTMLModel",
            "_view_count": null,
            "_view_module": "@jupyter-widgets/controls",
            "_view_module_version": "1.5.0",
            "_view_name": "HTMLView",
            "description": "",
            "description_tooltip": null,
            "layout": "IPY_MODEL_12aa4b98ecff450bb4cc2a13067ebc58",
            "placeholder": "​",
            "style": "IPY_MODEL_64f6ad24f7d7404c94e67a05dddf89aa",
            "value": "model.safetensors: 100%"
          }
        },
        "d656f5d2595448e9bbdf61b1dd5623ad": {
          "model_module": "@jupyter-widgets/controls",
          "model_name": "FloatProgressModel",
          "model_module_version": "1.5.0",
          "state": {
            "_dom_classes": [],
            "_model_module": "@jupyter-widgets/controls",
            "_model_module_version": "1.5.0",
            "_model_name": "FloatProgressModel",
            "_view_count": null,
            "_view_module": "@jupyter-widgets/controls",
            "_view_module_version": "1.5.0",
            "_view_name": "ProgressView",
            "bar_style": "success",
            "description": "",
            "description_tooltip": null,
            "layout": "IPY_MODEL_95c61fd1a4a049d5b3bcbe035b452398",
            "max": 440449768,
            "min": 0,
            "orientation": "horizontal",
            "style": "IPY_MODEL_e13329482f984fbc85e6782b07740252",
            "value": 440449768
          }
        },
        "f138a057593f4714b31a8773ca1ff05a": {
          "model_module": "@jupyter-widgets/controls",
          "model_name": "HTMLModel",
          "model_module_version": "1.5.0",
          "state": {
            "_dom_classes": [],
            "_model_module": "@jupyter-widgets/controls",
            "_model_module_version": "1.5.0",
            "_model_name": "HTMLModel",
            "_view_count": null,
            "_view_module": "@jupyter-widgets/controls",
            "_view_module_version": "1.5.0",
            "_view_name": "HTMLView",
            "description": "",
            "description_tooltip": null,
            "layout": "IPY_MODEL_78cf7bc4eadf4697823b9a8f8f5578bc",
            "placeholder": "​",
            "style": "IPY_MODEL_ea1dcc58ce1e4b11891c6ec3e94e04e0",
            "value": " 440M/440M [00:09&lt;00:00, 36.3MB/s]"
          }
        },
        "6d0f0d3930b14c67a5fab4bc137cb35f": {
          "model_module": "@jupyter-widgets/base",
          "model_name": "LayoutModel",
          "model_module_version": "1.2.0",
          "state": {
            "_model_module": "@jupyter-widgets/base",
            "_model_module_version": "1.2.0",
            "_model_name": "LayoutModel",
            "_view_count": null,
            "_view_module": "@jupyter-widgets/base",
            "_view_module_version": "1.2.0",
            "_view_name": "LayoutView",
            "align_content": null,
            "align_items": null,
            "align_self": null,
            "border": null,
            "bottom": null,
            "display": null,
            "flex": null,
            "flex_flow": null,
            "grid_area": null,
            "grid_auto_columns": null,
            "grid_auto_flow": null,
            "grid_auto_rows": null,
            "grid_column": null,
            "grid_gap": null,
            "grid_row": null,
            "grid_template_areas": null,
            "grid_template_columns": null,
            "grid_template_rows": null,
            "height": null,
            "justify_content": null,
            "justify_items": null,
            "left": null,
            "margin": null,
            "max_height": null,
            "max_width": null,
            "min_height": null,
            "min_width": null,
            "object_fit": null,
            "object_position": null,
            "order": null,
            "overflow": null,
            "overflow_x": null,
            "overflow_y": null,
            "padding": null,
            "right": null,
            "top": null,
            "visibility": null,
            "width": null
          }
        },
        "12aa4b98ecff450bb4cc2a13067ebc58": {
          "model_module": "@jupyter-widgets/base",
          "model_name": "LayoutModel",
          "model_module_version": "1.2.0",
          "state": {
            "_model_module": "@jupyter-widgets/base",
            "_model_module_version": "1.2.0",
            "_model_name": "LayoutModel",
            "_view_count": null,
            "_view_module": "@jupyter-widgets/base",
            "_view_module_version": "1.2.0",
            "_view_name": "LayoutView",
            "align_content": null,
            "align_items": null,
            "align_self": null,
            "border": null,
            "bottom": null,
            "display": null,
            "flex": null,
            "flex_flow": null,
            "grid_area": null,
            "grid_auto_columns": null,
            "grid_auto_flow": null,
            "grid_auto_rows": null,
            "grid_column": null,
            "grid_gap": null,
            "grid_row": null,
            "grid_template_areas": null,
            "grid_template_columns": null,
            "grid_template_rows": null,
            "height": null,
            "justify_content": null,
            "justify_items": null,
            "left": null,
            "margin": null,
            "max_height": null,
            "max_width": null,
            "min_height": null,
            "min_width": null,
            "object_fit": null,
            "object_position": null,
            "order": null,
            "overflow": null,
            "overflow_x": null,
            "overflow_y": null,
            "padding": null,
            "right": null,
            "top": null,
            "visibility": null,
            "width": null
          }
        },
        "64f6ad24f7d7404c94e67a05dddf89aa": {
          "model_module": "@jupyter-widgets/controls",
          "model_name": "DescriptionStyleModel",
          "model_module_version": "1.5.0",
          "state": {
            "_model_module": "@jupyter-widgets/controls",
            "_model_module_version": "1.5.0",
            "_model_name": "DescriptionStyleModel",
            "_view_count": null,
            "_view_module": "@jupyter-widgets/base",
            "_view_module_version": "1.2.0",
            "_view_name": "StyleView",
            "description_width": ""
          }
        },
        "95c61fd1a4a049d5b3bcbe035b452398": {
          "model_module": "@jupyter-widgets/base",
          "model_name": "LayoutModel",
          "model_module_version": "1.2.0",
          "state": {
            "_model_module": "@jupyter-widgets/base",
            "_model_module_version": "1.2.0",
            "_model_name": "LayoutModel",
            "_view_count": null,
            "_view_module": "@jupyter-widgets/base",
            "_view_module_version": "1.2.0",
            "_view_name": "LayoutView",
            "align_content": null,
            "align_items": null,
            "align_self": null,
            "border": null,
            "bottom": null,
            "display": null,
            "flex": null,
            "flex_flow": null,
            "grid_area": null,
            "grid_auto_columns": null,
            "grid_auto_flow": null,
            "grid_auto_rows": null,
            "grid_column": null,
            "grid_gap": null,
            "grid_row": null,
            "grid_template_areas": null,
            "grid_template_columns": null,
            "grid_template_rows": null,
            "height": null,
            "justify_content": null,
            "justify_items": null,
            "left": null,
            "margin": null,
            "max_height": null,
            "max_width": null,
            "min_height": null,
            "min_width": null,
            "object_fit": null,
            "object_position": null,
            "order": null,
            "overflow": null,
            "overflow_x": null,
            "overflow_y": null,
            "padding": null,
            "right": null,
            "top": null,
            "visibility": null,
            "width": null
          }
        },
        "e13329482f984fbc85e6782b07740252": {
          "model_module": "@jupyter-widgets/controls",
          "model_name": "ProgressStyleModel",
          "model_module_version": "1.5.0",
          "state": {
            "_model_module": "@jupyter-widgets/controls",
            "_model_module_version": "1.5.0",
            "_model_name": "ProgressStyleModel",
            "_view_count": null,
            "_view_module": "@jupyter-widgets/base",
            "_view_module_version": "1.2.0",
            "_view_name": "StyleView",
            "bar_color": null,
            "description_width": ""
          }
        },
        "78cf7bc4eadf4697823b9a8f8f5578bc": {
          "model_module": "@jupyter-widgets/base",
          "model_name": "LayoutModel",
          "model_module_version": "1.2.0",
          "state": {
            "_model_module": "@jupyter-widgets/base",
            "_model_module_version": "1.2.0",
            "_model_name": "LayoutModel",
            "_view_count": null,
            "_view_module": "@jupyter-widgets/base",
            "_view_module_version": "1.2.0",
            "_view_name": "LayoutView",
            "align_content": null,
            "align_items": null,
            "align_self": null,
            "border": null,
            "bottom": null,
            "display": null,
            "flex": null,
            "flex_flow": null,
            "grid_area": null,
            "grid_auto_columns": null,
            "grid_auto_flow": null,
            "grid_auto_rows": null,
            "grid_column": null,
            "grid_gap": null,
            "grid_row": null,
            "grid_template_areas": null,
            "grid_template_columns": null,
            "grid_template_rows": null,
            "height": null,
            "justify_content": null,
            "justify_items": null,
            "left": null,
            "margin": null,
            "max_height": null,
            "max_width": null,
            "min_height": null,
            "min_width": null,
            "object_fit": null,
            "object_position": null,
            "order": null,
            "overflow": null,
            "overflow_x": null,
            "overflow_y": null,
            "padding": null,
            "right": null,
            "top": null,
            "visibility": null,
            "width": null
          }
        },
        "ea1dcc58ce1e4b11891c6ec3e94e04e0": {
          "model_module": "@jupyter-widgets/controls",
          "model_name": "DescriptionStyleModel",
          "model_module_version": "1.5.0",
          "state": {
            "_model_module": "@jupyter-widgets/controls",
            "_model_module_version": "1.5.0",
            "_model_name": "DescriptionStyleModel",
            "_view_count": null,
            "_view_module": "@jupyter-widgets/base",
            "_view_module_version": "1.2.0",
            "_view_name": "StyleView",
            "description_width": ""
          }
        }
      }
    }
  },
  "cells": [
    {
      "cell_type": "code",
      "execution_count": null,
      "metadata": {
        "id": "icQghf56yPE5",
        "colab": {
          "base_uri": "https://localhost:8080/"
        },
        "outputId": "53794346-a76c-4a83-ed14-3efa4a59f789"
      },
      "outputs": [
        {
          "output_type": "stream",
          "name": "stdout",
          "text": [
            "Mounted at /content/drive\n"
          ]
        }
      ],
      "source": [
        "from google.colab import drive\n",
        "drive.mount('/content/drive')"
      ]
    },
    {
      "cell_type": "code",
      "source": [
        "from tqdm import tqdm\n",
        "\n",
        "import numpy as np\n",
        "import pandas as pd\n",
        "\n",
        "import re\n",
        "\n",
        "import matplotlib.pyplot as plt\n",
        "\n",
        "import torch.nn as nn\n",
        "from torch.nn import functional as F\n",
        "from torch.utils.data import DataLoader\n",
        "# from torch.nn.functional import relu, sigmoid\n",
        "from torch import optim\n",
        "\n",
        "import torch\n",
        "from torch.utils.data import Dataset"
      ],
      "metadata": {
        "id": "YUsiT7ydUGC7"
      },
      "execution_count": null,
      "outputs": []
    },
    {
      "cell_type": "code",
      "source": [
        "import pandas as pd\n",
        "df = pd.read_csv('/content/drive/MyDrive/captions.txt')"
      ],
      "metadata": {
        "id": "9GsyHsU-UKj5"
      },
      "execution_count": null,
      "outputs": []
    },
    {
      "cell_type": "code",
      "source": [
        "df.head()"
      ],
      "metadata": {
        "colab": {
          "base_uri": "https://localhost:8080/",
          "height": 206
        },
        "id": "zYIUFCleUQkN",
        "outputId": "229b54a1-61d2-4383-bea6-7bff1b97e189"
      },
      "execution_count": null,
      "outputs": [
        {
          "output_type": "execute_result",
          "data": {
            "text/plain": [
              "                       image  \\\n",
              "0  1000268201_693b08cb0e.jpg   \n",
              "1  1000268201_693b08cb0e.jpg   \n",
              "2  1000268201_693b08cb0e.jpg   \n",
              "3  1000268201_693b08cb0e.jpg   \n",
              "4  1000268201_693b08cb0e.jpg   \n",
              "\n",
              "                                             caption  \n",
              "0  A child in a pink dress is climbing up a set o...  \n",
              "1              A girl going into a wooden building .  \n",
              "2   A little girl climbing into a wooden playhouse .  \n",
              "3  A little girl climbing the stairs to her playh...  \n",
              "4  A little girl in a pink dress going into a woo...  "
            ],
            "text/html": [
              "\n",
              "  <div id=\"df-f189687e-3953-46f9-92de-e5a0a4a9b639\" class=\"colab-df-container\">\n",
              "    <div>\n",
              "<style scoped>\n",
              "    .dataframe tbody tr th:only-of-type {\n",
              "        vertical-align: middle;\n",
              "    }\n",
              "\n",
              "    .dataframe tbody tr th {\n",
              "        vertical-align: top;\n",
              "    }\n",
              "\n",
              "    .dataframe thead th {\n",
              "        text-align: right;\n",
              "    }\n",
              "</style>\n",
              "<table border=\"1\" class=\"dataframe\">\n",
              "  <thead>\n",
              "    <tr style=\"text-align: right;\">\n",
              "      <th></th>\n",
              "      <th>image</th>\n",
              "      <th>caption</th>\n",
              "    </tr>\n",
              "  </thead>\n",
              "  <tbody>\n",
              "    <tr>\n",
              "      <th>0</th>\n",
              "      <td>1000268201_693b08cb0e.jpg</td>\n",
              "      <td>A child in a pink dress is climbing up a set o...</td>\n",
              "    </tr>\n",
              "    <tr>\n",
              "      <th>1</th>\n",
              "      <td>1000268201_693b08cb0e.jpg</td>\n",
              "      <td>A girl going into a wooden building .</td>\n",
              "    </tr>\n",
              "    <tr>\n",
              "      <th>2</th>\n",
              "      <td>1000268201_693b08cb0e.jpg</td>\n",
              "      <td>A little girl climbing into a wooden playhouse .</td>\n",
              "    </tr>\n",
              "    <tr>\n",
              "      <th>3</th>\n",
              "      <td>1000268201_693b08cb0e.jpg</td>\n",
              "      <td>A little girl climbing the stairs to her playh...</td>\n",
              "    </tr>\n",
              "    <tr>\n",
              "      <th>4</th>\n",
              "      <td>1000268201_693b08cb0e.jpg</td>\n",
              "      <td>A little girl in a pink dress going into a woo...</td>\n",
              "    </tr>\n",
              "  </tbody>\n",
              "</table>\n",
              "</div>\n",
              "    <div class=\"colab-df-buttons\">\n",
              "\n",
              "  <div class=\"colab-df-container\">\n",
              "    <button class=\"colab-df-convert\" onclick=\"convertToInteractive('df-f189687e-3953-46f9-92de-e5a0a4a9b639')\"\n",
              "            title=\"Convert this dataframe to an interactive table.\"\n",
              "            style=\"display:none;\">\n",
              "\n",
              "  <svg xmlns=\"http://www.w3.org/2000/svg\" height=\"24px\" viewBox=\"0 -960 960 960\">\n",
              "    <path d=\"M120-120v-720h720v720H120Zm60-500h600v-160H180v160Zm220 220h160v-160H400v160Zm0 220h160v-160H400v160ZM180-400h160v-160H180v160Zm440 0h160v-160H620v160ZM180-180h160v-160H180v160Zm440 0h160v-160H620v160Z\"/>\n",
              "  </svg>\n",
              "    </button>\n",
              "\n",
              "  <style>\n",
              "    .colab-df-container {\n",
              "      display:flex;\n",
              "      gap: 12px;\n",
              "    }\n",
              "\n",
              "    .colab-df-convert {\n",
              "      background-color: #E8F0FE;\n",
              "      border: none;\n",
              "      border-radius: 50%;\n",
              "      cursor: pointer;\n",
              "      display: none;\n",
              "      fill: #1967D2;\n",
              "      height: 32px;\n",
              "      padding: 0 0 0 0;\n",
              "      width: 32px;\n",
              "    }\n",
              "\n",
              "    .colab-df-convert:hover {\n",
              "      background-color: #E2EBFA;\n",
              "      box-shadow: 0px 1px 2px rgba(60, 64, 67, 0.3), 0px 1px 3px 1px rgba(60, 64, 67, 0.15);\n",
              "      fill: #174EA6;\n",
              "    }\n",
              "\n",
              "    .colab-df-buttons div {\n",
              "      margin-bottom: 4px;\n",
              "    }\n",
              "\n",
              "    [theme=dark] .colab-df-convert {\n",
              "      background-color: #3B4455;\n",
              "      fill: #D2E3FC;\n",
              "    }\n",
              "\n",
              "    [theme=dark] .colab-df-convert:hover {\n",
              "      background-color: #434B5C;\n",
              "      box-shadow: 0px 1px 3px 1px rgba(0, 0, 0, 0.15);\n",
              "      filter: drop-shadow(0px 1px 2px rgba(0, 0, 0, 0.3));\n",
              "      fill: #FFFFFF;\n",
              "    }\n",
              "  </style>\n",
              "\n",
              "    <script>\n",
              "      const buttonEl =\n",
              "        document.querySelector('#df-f189687e-3953-46f9-92de-e5a0a4a9b639 button.colab-df-convert');\n",
              "      buttonEl.style.display =\n",
              "        google.colab.kernel.accessAllowed ? 'block' : 'none';\n",
              "\n",
              "      async function convertToInteractive(key) {\n",
              "        const element = document.querySelector('#df-f189687e-3953-46f9-92de-e5a0a4a9b639');\n",
              "        const dataTable =\n",
              "          await google.colab.kernel.invokeFunction('convertToInteractive',\n",
              "                                                    [key], {});\n",
              "        if (!dataTable) return;\n",
              "\n",
              "        const docLinkHtml = 'Like what you see? Visit the ' +\n",
              "          '<a target=\"_blank\" href=https://colab.research.google.com/notebooks/data_table.ipynb>data table notebook</a>'\n",
              "          + ' to learn more about interactive tables.';\n",
              "        element.innerHTML = '';\n",
              "        dataTable['output_type'] = 'display_data';\n",
              "        await google.colab.output.renderOutput(dataTable, element);\n",
              "        const docLink = document.createElement('div');\n",
              "        docLink.innerHTML = docLinkHtml;\n",
              "        element.appendChild(docLink);\n",
              "      }\n",
              "    </script>\n",
              "  </div>\n",
              "\n",
              "\n",
              "    <div id=\"df-ccc2f8a8-8bbd-42f9-bc87-c32a6ea14ac7\">\n",
              "      <button class=\"colab-df-quickchart\" onclick=\"quickchart('df-ccc2f8a8-8bbd-42f9-bc87-c32a6ea14ac7')\"\n",
              "                title=\"Suggest charts\"\n",
              "                style=\"display:none;\">\n",
              "\n",
              "<svg xmlns=\"http://www.w3.org/2000/svg\" height=\"24px\"viewBox=\"0 0 24 24\"\n",
              "     width=\"24px\">\n",
              "    <g>\n",
              "        <path d=\"M19 3H5c-1.1 0-2 .9-2 2v14c0 1.1.9 2 2 2h14c1.1 0 2-.9 2-2V5c0-1.1-.9-2-2-2zM9 17H7v-7h2v7zm4 0h-2V7h2v10zm4 0h-2v-4h2v4z\"/>\n",
              "    </g>\n",
              "</svg>\n",
              "      </button>\n",
              "\n",
              "<style>\n",
              "  .colab-df-quickchart {\n",
              "      --bg-color: #E8F0FE;\n",
              "      --fill-color: #1967D2;\n",
              "      --hover-bg-color: #E2EBFA;\n",
              "      --hover-fill-color: #174EA6;\n",
              "      --disabled-fill-color: #AAA;\n",
              "      --disabled-bg-color: #DDD;\n",
              "  }\n",
              "\n",
              "  [theme=dark] .colab-df-quickchart {\n",
              "      --bg-color: #3B4455;\n",
              "      --fill-color: #D2E3FC;\n",
              "      --hover-bg-color: #434B5C;\n",
              "      --hover-fill-color: #FFFFFF;\n",
              "      --disabled-bg-color: #3B4455;\n",
              "      --disabled-fill-color: #666;\n",
              "  }\n",
              "\n",
              "  .colab-df-quickchart {\n",
              "    background-color: var(--bg-color);\n",
              "    border: none;\n",
              "    border-radius: 50%;\n",
              "    cursor: pointer;\n",
              "    display: none;\n",
              "    fill: var(--fill-color);\n",
              "    height: 32px;\n",
              "    padding: 0;\n",
              "    width: 32px;\n",
              "  }\n",
              "\n",
              "  .colab-df-quickchart:hover {\n",
              "    background-color: var(--hover-bg-color);\n",
              "    box-shadow: 0 1px 2px rgba(60, 64, 67, 0.3), 0 1px 3px 1px rgba(60, 64, 67, 0.15);\n",
              "    fill: var(--button-hover-fill-color);\n",
              "  }\n",
              "\n",
              "  .colab-df-quickchart-complete:disabled,\n",
              "  .colab-df-quickchart-complete:disabled:hover {\n",
              "    background-color: var(--disabled-bg-color);\n",
              "    fill: var(--disabled-fill-color);\n",
              "    box-shadow: none;\n",
              "  }\n",
              "\n",
              "  .colab-df-spinner {\n",
              "    border: 2px solid var(--fill-color);\n",
              "    border-color: transparent;\n",
              "    border-bottom-color: var(--fill-color);\n",
              "    animation:\n",
              "      spin 1s steps(1) infinite;\n",
              "  }\n",
              "\n",
              "  @keyframes spin {\n",
              "    0% {\n",
              "      border-color: transparent;\n",
              "      border-bottom-color: var(--fill-color);\n",
              "      border-left-color: var(--fill-color);\n",
              "    }\n",
              "    20% {\n",
              "      border-color: transparent;\n",
              "      border-left-color: var(--fill-color);\n",
              "      border-top-color: var(--fill-color);\n",
              "    }\n",
              "    30% {\n",
              "      border-color: transparent;\n",
              "      border-left-color: var(--fill-color);\n",
              "      border-top-color: var(--fill-color);\n",
              "      border-right-color: var(--fill-color);\n",
              "    }\n",
              "    40% {\n",
              "      border-color: transparent;\n",
              "      border-right-color: var(--fill-color);\n",
              "      border-top-color: var(--fill-color);\n",
              "    }\n",
              "    60% {\n",
              "      border-color: transparent;\n",
              "      border-right-color: var(--fill-color);\n",
              "    }\n",
              "    80% {\n",
              "      border-color: transparent;\n",
              "      border-right-color: var(--fill-color);\n",
              "      border-bottom-color: var(--fill-color);\n",
              "    }\n",
              "    90% {\n",
              "      border-color: transparent;\n",
              "      border-bottom-color: var(--fill-color);\n",
              "    }\n",
              "  }\n",
              "</style>\n",
              "\n",
              "      <script>\n",
              "        async function quickchart(key) {\n",
              "          const quickchartButtonEl =\n",
              "            document.querySelector('#' + key + ' button');\n",
              "          quickchartButtonEl.disabled = true;  // To prevent multiple clicks.\n",
              "          quickchartButtonEl.classList.add('colab-df-spinner');\n",
              "          try {\n",
              "            const charts = await google.colab.kernel.invokeFunction(\n",
              "                'suggestCharts', [key], {});\n",
              "          } catch (error) {\n",
              "            console.error('Error during call to suggestCharts:', error);\n",
              "          }\n",
              "          quickchartButtonEl.classList.remove('colab-df-spinner');\n",
              "          quickchartButtonEl.classList.add('colab-df-quickchart-complete');\n",
              "        }\n",
              "        (() => {\n",
              "          let quickchartButtonEl =\n",
              "            document.querySelector('#df-ccc2f8a8-8bbd-42f9-bc87-c32a6ea14ac7 button');\n",
              "          quickchartButtonEl.style.display =\n",
              "            google.colab.kernel.accessAllowed ? 'block' : 'none';\n",
              "        })();\n",
              "      </script>\n",
              "    </div>\n",
              "    </div>\n",
              "  </div>\n"
            ],
            "application/vnd.google.colaboratory.intrinsic+json": {
              "type": "dataframe",
              "variable_name": "df",
              "summary": "{\n  \"name\": \"df\",\n  \"rows\": 40455,\n  \"fields\": [\n    {\n      \"column\": \"image\",\n      \"properties\": {\n        \"dtype\": \"category\",\n        \"num_unique_values\": 8091,\n        \"samples\": [\n          \"3139895886_5a6d495b13.jpg\",\n          \"3133825703_359a0c414d.jpg\",\n          \"244910177_7c4ec3f65b.jpg\"\n        ],\n        \"semantic_type\": \"\",\n        \"description\": \"\"\n      }\n    },\n    {\n      \"column\": \"caption\",\n      \"properties\": {\n        \"dtype\": \"string\",\n        \"num_unique_values\": 40201,\n        \"samples\": [\n          \"A girl plays T-ball .\",\n          \"A woman in riding attire rides a jumping horse .\",\n          \"A brown dog wearing a pink shirt is followed by a brown dog wearing a yellow shirt .\"\n        ],\n        \"semantic_type\": \"\",\n        \"description\": \"\"\n      }\n    }\n  ]\n}"
            }
          },
          "metadata": {},
          "execution_count": 4
        }
      ]
    },
    {
      "cell_type": "code",
      "source": [
        "\n",
        "def clean_caption(text):\n",
        "    text = text.lower()\n",
        "    text = re.sub(r\"[^a-zA-Z\\s]\", \"\", text)\n",
        "    text = \" \".join([w for w in text.split() if len(w) > 1])\n",
        "    return text\n",
        "\n",
        "df['caption'] = df['caption'].apply(clean_caption)\n"
      ],
      "metadata": {
        "id": "7aHjW4hBURsx"
      },
      "execution_count": null,
      "outputs": []
    },
    {
      "cell_type": "code",
      "source": [
        "captions = df[\"caption\"].tolist()\n",
        "max_length = max(len(caption.split()) for caption in captions)\n",
        "max_length"
      ],
      "metadata": {
        "colab": {
          "base_uri": "https://localhost:8080/"
        },
        "id": "1ZX5HxW-UTFh",
        "outputId": "eda4cfc8-d1f1-4e31-d0c3-b511335eadea"
      },
      "execution_count": null,
      "outputs": [
        {
          "output_type": "execute_result",
          "data": {
            "text/plain": [
              "32"
            ]
          },
          "metadata": {},
          "execution_count": 6
        }
      ]
    },
    {
      "cell_type": "code",
      "source": [
        "# captions"
      ],
      "metadata": {
        "id": "m3hQ0hzQUUH8"
      },
      "execution_count": null,
      "outputs": []
    },
    {
      "cell_type": "code",
      "source": [
        "print(\"Number of GPU: \", torch.cuda.device_count())\n",
        "print(\"GPU Name: \", torch.cuda.get_device_name())\n",
        "\n",
        "\n",
        "device = torch.device('cuda' if torch.cuda.is_available() else 'cpu')\n",
        "print('Using device:', device)"
      ],
      "metadata": {
        "colab": {
          "base_uri": "https://localhost:8080/"
        },
        "id": "s6-rJb2eUVhh",
        "outputId": "72fbf70c-4ed2-4b4e-edf7-2115eb1f429b"
      },
      "execution_count": null,
      "outputs": [
        {
          "output_type": "stream",
          "name": "stdout",
          "text": [
            "Number of GPU:  1\n",
            "GPU Name:  Tesla T4\n",
            "Using device: cuda\n"
          ]
        }
      ]
    },
    {
      "cell_type": "code",
      "source": [
        "features1 = pd.read_csv('/content/drive/MyDrive/final1_feature.csv')"
      ],
      "metadata": {
        "id": "J_SwcfVKx796"
      },
      "execution_count": null,
      "outputs": []
    },
    {
      "cell_type": "code",
      "source": [
        "features1.head(5)"
      ],
      "metadata": {
        "id": "dZqLtqkYx8nH"
      },
      "execution_count": null,
      "outputs": []
    },
    {
      "cell_type": "code",
      "source": [
        "features = pd.read_csv('/content/drive/MyDrive/features.csv')"
      ],
      "metadata": {
        "id": "pRpdM5wfUXUt"
      },
      "execution_count": null,
      "outputs": []
    },
    {
      "cell_type": "code",
      "source": [
        "features.head(5)"
      ],
      "metadata": {
        "colab": {
          "base_uri": "https://localhost:8080/",
          "height": 255
        },
        "id": "Pb7kzg4YUZZ1",
        "outputId": "4b81ee35-4fcc-4d52-cb6b-02d037b2c707"
      },
      "execution_count": null,
      "outputs": [
        {
          "output_type": "execute_result",
          "data": {
            "text/plain": [
              "                  Unnamed: 0         0         1         2         3  \\\n",
              "0  1000268201_693b08cb0e.jpg  0.000530  0.020955  0.000000  0.000478   \n",
              "1  1001773457_577c3a7d70.jpg  0.000896  0.004986  0.001943  0.005952   \n",
              "2  1002674143_1b742ab4b8.jpg  0.000139  0.010884  0.000000  0.001002   \n",
              "3  1003163366_44323f5815.jpg  0.000156  0.017315  0.001471  0.002552   \n",
              "4  1007129816_e794419615.jpg  0.000144  0.001897  0.008756  0.018821   \n",
              "\n",
              "          4         5         6         7         8  ...      1014      1015  \\\n",
              "0  0.102640  2.816984  0.000314  0.000894  0.500193  ...  5.755997  0.000000   \n",
              "1  0.012798  0.276479  0.001835  0.012086  0.115777  ...  0.703914  5.111288   \n",
              "2  0.310223  0.572058  0.001189  0.001960  0.230935  ...  2.796671  0.000000   \n",
              "3  0.038932  1.582965  0.001269  0.003844  0.227926  ...  1.709077  2.349216   \n",
              "4  0.000000  0.000000  0.002928  0.002050  0.459453  ...  2.115044  4.440852   \n",
              "\n",
              "        1016       1017      1018      1019      1020      1021       1022  \\\n",
              "0  11.968189   0.855762  2.582031  0.000000  2.545345  3.693776   3.893597   \n",
              "1   5.492939  10.403438  0.000000  0.000000  1.604755  3.473159   0.753371   \n",
              "2   2.526081   9.665098  3.163004  0.000000  4.403409  0.000000   2.451269   \n",
              "3   6.488191  12.943340  0.000000  0.000000  3.434384  2.654669  10.393051   \n",
              "4   8.961600   5.716276  2.507264  2.447746  0.538589  0.000000   7.990150   \n",
              "\n",
              "        1023  \n",
              "0   5.397244  \n",
              "1  13.305740  \n",
              "2  15.814799  \n",
              "3   2.786068  \n",
              "4   2.681692  \n",
              "\n",
              "[5 rows x 1025 columns]"
            ],
            "text/html": [
              "\n",
              "  <div id=\"df-243fb166-1541-4866-883c-1f1324d9a73c\" class=\"colab-df-container\">\n",
              "    <div>\n",
              "<style scoped>\n",
              "    .dataframe tbody tr th:only-of-type {\n",
              "        vertical-align: middle;\n",
              "    }\n",
              "\n",
              "    .dataframe tbody tr th {\n",
              "        vertical-align: top;\n",
              "    }\n",
              "\n",
              "    .dataframe thead th {\n",
              "        text-align: right;\n",
              "    }\n",
              "</style>\n",
              "<table border=\"1\" class=\"dataframe\">\n",
              "  <thead>\n",
              "    <tr style=\"text-align: right;\">\n",
              "      <th></th>\n",
              "      <th>Unnamed: 0</th>\n",
              "      <th>0</th>\n",
              "      <th>1</th>\n",
              "      <th>2</th>\n",
              "      <th>3</th>\n",
              "      <th>4</th>\n",
              "      <th>5</th>\n",
              "      <th>6</th>\n",
              "      <th>7</th>\n",
              "      <th>8</th>\n",
              "      <th>...</th>\n",
              "      <th>1014</th>\n",
              "      <th>1015</th>\n",
              "      <th>1016</th>\n",
              "      <th>1017</th>\n",
              "      <th>1018</th>\n",
              "      <th>1019</th>\n",
              "      <th>1020</th>\n",
              "      <th>1021</th>\n",
              "      <th>1022</th>\n",
              "      <th>1023</th>\n",
              "    </tr>\n",
              "  </thead>\n",
              "  <tbody>\n",
              "    <tr>\n",
              "      <th>0</th>\n",
              "      <td>1000268201_693b08cb0e.jpg</td>\n",
              "      <td>0.000530</td>\n",
              "      <td>0.020955</td>\n",
              "      <td>0.000000</td>\n",
              "      <td>0.000478</td>\n",
              "      <td>0.102640</td>\n",
              "      <td>2.816984</td>\n",
              "      <td>0.000314</td>\n",
              "      <td>0.000894</td>\n",
              "      <td>0.500193</td>\n",
              "      <td>...</td>\n",
              "      <td>5.755997</td>\n",
              "      <td>0.000000</td>\n",
              "      <td>11.968189</td>\n",
              "      <td>0.855762</td>\n",
              "      <td>2.582031</td>\n",
              "      <td>0.000000</td>\n",
              "      <td>2.545345</td>\n",
              "      <td>3.693776</td>\n",
              "      <td>3.893597</td>\n",
              "      <td>5.397244</td>\n",
              "    </tr>\n",
              "    <tr>\n",
              "      <th>1</th>\n",
              "      <td>1001773457_577c3a7d70.jpg</td>\n",
              "      <td>0.000896</td>\n",
              "      <td>0.004986</td>\n",
              "      <td>0.001943</td>\n",
              "      <td>0.005952</td>\n",
              "      <td>0.012798</td>\n",
              "      <td>0.276479</td>\n",
              "      <td>0.001835</td>\n",
              "      <td>0.012086</td>\n",
              "      <td>0.115777</td>\n",
              "      <td>...</td>\n",
              "      <td>0.703914</td>\n",
              "      <td>5.111288</td>\n",
              "      <td>5.492939</td>\n",
              "      <td>10.403438</td>\n",
              "      <td>0.000000</td>\n",
              "      <td>0.000000</td>\n",
              "      <td>1.604755</td>\n",
              "      <td>3.473159</td>\n",
              "      <td>0.753371</td>\n",
              "      <td>13.305740</td>\n",
              "    </tr>\n",
              "    <tr>\n",
              "      <th>2</th>\n",
              "      <td>1002674143_1b742ab4b8.jpg</td>\n",
              "      <td>0.000139</td>\n",
              "      <td>0.010884</td>\n",
              "      <td>0.000000</td>\n",
              "      <td>0.001002</td>\n",
              "      <td>0.310223</td>\n",
              "      <td>0.572058</td>\n",
              "      <td>0.001189</td>\n",
              "      <td>0.001960</td>\n",
              "      <td>0.230935</td>\n",
              "      <td>...</td>\n",
              "      <td>2.796671</td>\n",
              "      <td>0.000000</td>\n",
              "      <td>2.526081</td>\n",
              "      <td>9.665098</td>\n",
              "      <td>3.163004</td>\n",
              "      <td>0.000000</td>\n",
              "      <td>4.403409</td>\n",
              "      <td>0.000000</td>\n",
              "      <td>2.451269</td>\n",
              "      <td>15.814799</td>\n",
              "    </tr>\n",
              "    <tr>\n",
              "      <th>3</th>\n",
              "      <td>1003163366_44323f5815.jpg</td>\n",
              "      <td>0.000156</td>\n",
              "      <td>0.017315</td>\n",
              "      <td>0.001471</td>\n",
              "      <td>0.002552</td>\n",
              "      <td>0.038932</td>\n",
              "      <td>1.582965</td>\n",
              "      <td>0.001269</td>\n",
              "      <td>0.003844</td>\n",
              "      <td>0.227926</td>\n",
              "      <td>...</td>\n",
              "      <td>1.709077</td>\n",
              "      <td>2.349216</td>\n",
              "      <td>6.488191</td>\n",
              "      <td>12.943340</td>\n",
              "      <td>0.000000</td>\n",
              "      <td>0.000000</td>\n",
              "      <td>3.434384</td>\n",
              "      <td>2.654669</td>\n",
              "      <td>10.393051</td>\n",
              "      <td>2.786068</td>\n",
              "    </tr>\n",
              "    <tr>\n",
              "      <th>4</th>\n",
              "      <td>1007129816_e794419615.jpg</td>\n",
              "      <td>0.000144</td>\n",
              "      <td>0.001897</td>\n",
              "      <td>0.008756</td>\n",
              "      <td>0.018821</td>\n",
              "      <td>0.000000</td>\n",
              "      <td>0.000000</td>\n",
              "      <td>0.002928</td>\n",
              "      <td>0.002050</td>\n",
              "      <td>0.459453</td>\n",
              "      <td>...</td>\n",
              "      <td>2.115044</td>\n",
              "      <td>4.440852</td>\n",
              "      <td>8.961600</td>\n",
              "      <td>5.716276</td>\n",
              "      <td>2.507264</td>\n",
              "      <td>2.447746</td>\n",
              "      <td>0.538589</td>\n",
              "      <td>0.000000</td>\n",
              "      <td>7.990150</td>\n",
              "      <td>2.681692</td>\n",
              "    </tr>\n",
              "  </tbody>\n",
              "</table>\n",
              "<p>5 rows × 1025 columns</p>\n",
              "</div>\n",
              "    <div class=\"colab-df-buttons\">\n",
              "\n",
              "  <div class=\"colab-df-container\">\n",
              "    <button class=\"colab-df-convert\" onclick=\"convertToInteractive('df-243fb166-1541-4866-883c-1f1324d9a73c')\"\n",
              "            title=\"Convert this dataframe to an interactive table.\"\n",
              "            style=\"display:none;\">\n",
              "\n",
              "  <svg xmlns=\"http://www.w3.org/2000/svg\" height=\"24px\" viewBox=\"0 -960 960 960\">\n",
              "    <path d=\"M120-120v-720h720v720H120Zm60-500h600v-160H180v160Zm220 220h160v-160H400v160Zm0 220h160v-160H400v160ZM180-400h160v-160H180v160Zm440 0h160v-160H620v160ZM180-180h160v-160H180v160Zm440 0h160v-160H620v160Z\"/>\n",
              "  </svg>\n",
              "    </button>\n",
              "\n",
              "  <style>\n",
              "    .colab-df-container {\n",
              "      display:flex;\n",
              "      gap: 12px;\n",
              "    }\n",
              "\n",
              "    .colab-df-convert {\n",
              "      background-color: #E8F0FE;\n",
              "      border: none;\n",
              "      border-radius: 50%;\n",
              "      cursor: pointer;\n",
              "      display: none;\n",
              "      fill: #1967D2;\n",
              "      height: 32px;\n",
              "      padding: 0 0 0 0;\n",
              "      width: 32px;\n",
              "    }\n",
              "\n",
              "    .colab-df-convert:hover {\n",
              "      background-color: #E2EBFA;\n",
              "      box-shadow: 0px 1px 2px rgba(60, 64, 67, 0.3), 0px 1px 3px 1px rgba(60, 64, 67, 0.15);\n",
              "      fill: #174EA6;\n",
              "    }\n",
              "\n",
              "    .colab-df-buttons div {\n",
              "      margin-bottom: 4px;\n",
              "    }\n",
              "\n",
              "    [theme=dark] .colab-df-convert {\n",
              "      background-color: #3B4455;\n",
              "      fill: #D2E3FC;\n",
              "    }\n",
              "\n",
              "    [theme=dark] .colab-df-convert:hover {\n",
              "      background-color: #434B5C;\n",
              "      box-shadow: 0px 1px 3px 1px rgba(0, 0, 0, 0.15);\n",
              "      filter: drop-shadow(0px 1px 2px rgba(0, 0, 0, 0.3));\n",
              "      fill: #FFFFFF;\n",
              "    }\n",
              "  </style>\n",
              "\n",
              "    <script>\n",
              "      const buttonEl =\n",
              "        document.querySelector('#df-243fb166-1541-4866-883c-1f1324d9a73c button.colab-df-convert');\n",
              "      buttonEl.style.display =\n",
              "        google.colab.kernel.accessAllowed ? 'block' : 'none';\n",
              "\n",
              "      async function convertToInteractive(key) {\n",
              "        const element = document.querySelector('#df-243fb166-1541-4866-883c-1f1324d9a73c');\n",
              "        const dataTable =\n",
              "          await google.colab.kernel.invokeFunction('convertToInteractive',\n",
              "                                                    [key], {});\n",
              "        if (!dataTable) return;\n",
              "\n",
              "        const docLinkHtml = 'Like what you see? Visit the ' +\n",
              "          '<a target=\"_blank\" href=https://colab.research.google.com/notebooks/data_table.ipynb>data table notebook</a>'\n",
              "          + ' to learn more about interactive tables.';\n",
              "        element.innerHTML = '';\n",
              "        dataTable['output_type'] = 'display_data';\n",
              "        await google.colab.output.renderOutput(dataTable, element);\n",
              "        const docLink = document.createElement('div');\n",
              "        docLink.innerHTML = docLinkHtml;\n",
              "        element.appendChild(docLink);\n",
              "      }\n",
              "    </script>\n",
              "  </div>\n",
              "\n",
              "\n",
              "    <div id=\"df-4b1e68f6-5435-446c-838e-c19b1fcd6023\">\n",
              "      <button class=\"colab-df-quickchart\" onclick=\"quickchart('df-4b1e68f6-5435-446c-838e-c19b1fcd6023')\"\n",
              "                title=\"Suggest charts\"\n",
              "                style=\"display:none;\">\n",
              "\n",
              "<svg xmlns=\"http://www.w3.org/2000/svg\" height=\"24px\"viewBox=\"0 0 24 24\"\n",
              "     width=\"24px\">\n",
              "    <g>\n",
              "        <path d=\"M19 3H5c-1.1 0-2 .9-2 2v14c0 1.1.9 2 2 2h14c1.1 0 2-.9 2-2V5c0-1.1-.9-2-2-2zM9 17H7v-7h2v7zm4 0h-2V7h2v10zm4 0h-2v-4h2v4z\"/>\n",
              "    </g>\n",
              "</svg>\n",
              "      </button>\n",
              "\n",
              "<style>\n",
              "  .colab-df-quickchart {\n",
              "      --bg-color: #E8F0FE;\n",
              "      --fill-color: #1967D2;\n",
              "      --hover-bg-color: #E2EBFA;\n",
              "      --hover-fill-color: #174EA6;\n",
              "      --disabled-fill-color: #AAA;\n",
              "      --disabled-bg-color: #DDD;\n",
              "  }\n",
              "\n",
              "  [theme=dark] .colab-df-quickchart {\n",
              "      --bg-color: #3B4455;\n",
              "      --fill-color: #D2E3FC;\n",
              "      --hover-bg-color: #434B5C;\n",
              "      --hover-fill-color: #FFFFFF;\n",
              "      --disabled-bg-color: #3B4455;\n",
              "      --disabled-fill-color: #666;\n",
              "  }\n",
              "\n",
              "  .colab-df-quickchart {\n",
              "    background-color: var(--bg-color);\n",
              "    border: none;\n",
              "    border-radius: 50%;\n",
              "    cursor: pointer;\n",
              "    display: none;\n",
              "    fill: var(--fill-color);\n",
              "    height: 32px;\n",
              "    padding: 0;\n",
              "    width: 32px;\n",
              "  }\n",
              "\n",
              "  .colab-df-quickchart:hover {\n",
              "    background-color: var(--hover-bg-color);\n",
              "    box-shadow: 0 1px 2px rgba(60, 64, 67, 0.3), 0 1px 3px 1px rgba(60, 64, 67, 0.15);\n",
              "    fill: var(--button-hover-fill-color);\n",
              "  }\n",
              "\n",
              "  .colab-df-quickchart-complete:disabled,\n",
              "  .colab-df-quickchart-complete:disabled:hover {\n",
              "    background-color: var(--disabled-bg-color);\n",
              "    fill: var(--disabled-fill-color);\n",
              "    box-shadow: none;\n",
              "  }\n",
              "\n",
              "  .colab-df-spinner {\n",
              "    border: 2px solid var(--fill-color);\n",
              "    border-color: transparent;\n",
              "    border-bottom-color: var(--fill-color);\n",
              "    animation:\n",
              "      spin 1s steps(1) infinite;\n",
              "  }\n",
              "\n",
              "  @keyframes spin {\n",
              "    0% {\n",
              "      border-color: transparent;\n",
              "      border-bottom-color: var(--fill-color);\n",
              "      border-left-color: var(--fill-color);\n",
              "    }\n",
              "    20% {\n",
              "      border-color: transparent;\n",
              "      border-left-color: var(--fill-color);\n",
              "      border-top-color: var(--fill-color);\n",
              "    }\n",
              "    30% {\n",
              "      border-color: transparent;\n",
              "      border-left-color: var(--fill-color);\n",
              "      border-top-color: var(--fill-color);\n",
              "      border-right-color: var(--fill-color);\n",
              "    }\n",
              "    40% {\n",
              "      border-color: transparent;\n",
              "      border-right-color: var(--fill-color);\n",
              "      border-top-color: var(--fill-color);\n",
              "    }\n",
              "    60% {\n",
              "      border-color: transparent;\n",
              "      border-right-color: var(--fill-color);\n",
              "    }\n",
              "    80% {\n",
              "      border-color: transparent;\n",
              "      border-right-color: var(--fill-color);\n",
              "      border-bottom-color: var(--fill-color);\n",
              "    }\n",
              "    90% {\n",
              "      border-color: transparent;\n",
              "      border-bottom-color: var(--fill-color);\n",
              "    }\n",
              "  }\n",
              "</style>\n",
              "\n",
              "      <script>\n",
              "        async function quickchart(key) {\n",
              "          const quickchartButtonEl =\n",
              "            document.querySelector('#' + key + ' button');\n",
              "          quickchartButtonEl.disabled = true;  // To prevent multiple clicks.\n",
              "          quickchartButtonEl.classList.add('colab-df-spinner');\n",
              "          try {\n",
              "            const charts = await google.colab.kernel.invokeFunction(\n",
              "                'suggestCharts', [key], {});\n",
              "          } catch (error) {\n",
              "            console.error('Error during call to suggestCharts:', error);\n",
              "          }\n",
              "          quickchartButtonEl.classList.remove('colab-df-spinner');\n",
              "          quickchartButtonEl.classList.add('colab-df-quickchart-complete');\n",
              "        }\n",
              "        (() => {\n",
              "          let quickchartButtonEl =\n",
              "            document.querySelector('#df-4b1e68f6-5435-446c-838e-c19b1fcd6023 button');\n",
              "          quickchartButtonEl.style.display =\n",
              "            google.colab.kernel.accessAllowed ? 'block' : 'none';\n",
              "        })();\n",
              "      </script>\n",
              "    </div>\n",
              "    </div>\n",
              "  </div>\n"
            ],
            "application/vnd.google.colaboratory.intrinsic+json": {
              "type": "dataframe",
              "variable_name": "features"
            }
          },
          "metadata": {},
          "execution_count": 10
        }
      ]
    },
    {
      "cell_type": "code",
      "source": [
        "result_dict = features.to_dict(orient='index')\n",
        "output_dict = {}\n",
        "for key, value in result_dict.items():\n",
        "    image_name = value['Unnamed: 0']\n",
        "    features = np.array([value[str(i)] for i in range(len(value) - 1)])\n",
        "    output_dict[image_name] = features.reshape(1, -1)\n",
        "# print(output_dict)"
      ],
      "metadata": {
        "id": "su0HpL_rUeI1"
      },
      "execution_count": null,
      "outputs": []
    },
    {
      "cell_type": "code",
      "source": [
        "sample_feat = next(iter(output_dict.values()))  # (1, F)\n",
        "IMG_FEAT_DIM = sample_feat.shape[-1]\n",
        "print(\"Image‑feature dim =\", IMG_FEAT_DIM)"
      ],
      "metadata": {
        "colab": {
          "base_uri": "https://localhost:8080/"
        },
        "id": "Ue6LhLkMUfJM",
        "outputId": "59133443-1315-466c-e5b8-9d32733fa2c4"
      },
      "execution_count": null,
      "outputs": [
        {
          "output_type": "stream",
          "name": "stdout",
          "text": [
            "Image‑feature dim = 1024\n"
          ]
        }
      ]
    },
    {
      "cell_type": "markdown",
      "source": [],
      "metadata": {
        "id": "MNjx7hw_kMOJ"
      }
    },
    {
      "cell_type": "code",
      "source": [
        "from torch.utils.data import Dataset\n",
        "from tensorflow.keras.preprocessing.sequence import pad_sequences\n",
        "import torch\n",
        "import numpy as np\n",
        "\n",
        "class BERTCaptionDataset(Dataset):\n",
        "    def __init__(self, df, image_features, tokenizer, max_length=30):\n",
        "        self.df = df.reset_index(drop=True)\n",
        "        self.image_features = image_features\n",
        "        self.tokenizer = tokenizer\n",
        "        self.max_length = max_length\n",
        "\n",
        "    def __len__(self):\n",
        "        return len(self.df)\n",
        "\n",
        "    def __getitem__(self, idx):\n",
        "        row = self.df.iloc[idx]\n",
        "        image_id = row[\"image\"]\n",
        "        caption = row[\"caption\"]\n",
        "\n",
        "        # ویژگی‌های تصویر\n",
        "        img_feat = self.image_features[image_id]\n",
        "        if isinstance(img_feat, np.ndarray) and len(img_feat.shape) == 2 and img_feat.shape[0] == 1:\n",
        "            img_feat = img_feat.squeeze(0)\n",
        "        img_feat = torch.tensor(img_feat, dtype=torch.float32)\n",
        "\n",
        "        # توکنایز کپشن\n",
        "        tokens = self.tokenizer.encode(caption, add_special_tokens=False)\n",
        "        input_tokens = tokens[:-1]\n",
        "        target_tokens = tokens[1:]\n",
        "\n",
        "        input_tokens_padded = pad_sequences([input_tokens], maxlen=self.max_length, padding='post')[0]\n",
        "        target_tokens_padded = pad_sequences([target_tokens], maxlen=self.max_length, padding='post')[0]\n",
        "\n",
        "        input_tensor = torch.tensor(input_tokens_padded, dtype=torch.long)\n",
        "        target_tensor = torch.tensor(target_tokens_padded, dtype=torch.long)\n",
        "\n",
        "        return (img_feat, input_tensor), target_tensor\n"
      ],
      "metadata": {
        "id": "5nj54imdjaee"
      },
      "execution_count": null,
      "outputs": []
    },
    {
      "cell_type": "code",
      "source": [
        "# class BERTCaptionDataset(Dataset):\n",
        "#     def __init__(self, image_features, captions, tokenizer):\n",
        "#         self.image_features = image_features\n",
        "#         self.captions = captions  # list of (image_id, caption)\n",
        "#         self.tokenizer = tokenizer\n",
        "\n",
        "#     def __len__(self):\n",
        "#         return len(self.captions)\n",
        "\n",
        "#     def __getitem__(self, idx):\n",
        "#         image_id, caption = self.captions[idx]\n",
        "#         img_feat = torch.tensor(self.image_features[image_id], dtype=torch.float).squeeze(0)\n",
        "\n",
        "#         encoded = self.tokenizer(caption, padding='max_length', truncation=True, max_length=30, return_tensors=\"pt\")\n",
        "#         input_ids = encoded[\"input_ids\"].squeeze(0)\n",
        "#         attention_mask = encoded[\"attention_mask\"].squeeze(0)\n",
        "\n",
        "#         return (img_feat, attention_mask), input_ids\n"
      ],
      "metadata": {
        "id": "tMatBO3gUglk"
      },
      "execution_count": null,
      "outputs": []
    },
    {
      "cell_type": "code",
      "source": [
        "from transformers import BertTokenizer\n",
        "tokenizer = BertTokenizer.from_pretrained(\"bert-base-uncased\")"
      ],
      "metadata": {
        "id": "6sh-PiRaUqN9"
      },
      "execution_count": null,
      "outputs": []
    },
    {
      "cell_type": "code",
      "source": [
        "image_ids = list(output_dict.keys())\n",
        "# captions_with_ids = list(zip(image_ids, captions))\n",
        "dataset = BERTCaptionDataset(df,output_dict, tokenizer)\n"
      ],
      "metadata": {
        "id": "ad_2IAojU9XP"
      },
      "execution_count": null,
      "outputs": []
    },
    {
      "cell_type": "code",
      "source": [
        "from torch.utils.data import DataLoader\n",
        "\n",
        "# train_dataset = BERTCaptionDataset(df, output_dict, tokenizer)\n",
        "train_loader = DataLoader(dataset, batch_size=8, shuffle=True)\n",
        "\n",
        "\n"
      ],
      "metadata": {
        "id": "ftBojgJuUrXd"
      },
      "execution_count": null,
      "outputs": []
    },
    {
      "cell_type": "code",
      "source": [
        "for (X1, X2), y in train_loader:\n",
        "    print(\"🔹 Image feature batch shape:\", X1.shape)  # [batch_size, feature_dim]\n",
        "    print(\"🔹 Attention mask batch shape:\", X2.shape) # [batch_size, seq_len]\n",
        "    print(\"🔹 Input ids batch shape:\", y.shape)       # [batch_size, seq_len]\n",
        "    break"
      ],
      "metadata": {
        "colab": {
          "base_uri": "https://localhost:8080/"
        },
        "id": "7ELDHL6HUtCI",
        "outputId": "8ea57231-5eab-4576-9e2a-f6f20c250258"
      },
      "execution_count": null,
      "outputs": [
        {
          "output_type": "stream",
          "name": "stdout",
          "text": [
            "🔹 Image feature batch shape: torch.Size([8, 1024])\n",
            "🔹 Attention mask batch shape: torch.Size([8, 30])\n",
            "🔹 Input ids batch shape: torch.Size([8, 30])\n"
          ]
        }
      ]
    },
    {
      "cell_type": "code",
      "source": [
        "import torch\n",
        "import torch.nn as nn\n",
        "from transformers import BertModel\n",
        "\n",
        "# بارگذاری مدل از پیش آموزش‌دیده BERT\n",
        "bert = BertModel.from_pretrained(\"bert-base-uncased\")\n",
        "bert_emb = bert.embeddings.word_embeddings\n",
        "\n",
        "class BERTUniLSTMResidual(nn.Module):\n",
        "    def __init__(self, img_feat_dim, embed_dim, hidden_dim,\n",
        "                 vocab_size, max_len, dropout_rate=0.5):\n",
        "        super().__init__()\n",
        "\n",
        "        self.img_fc = nn.Linear(img_feat_dim, embed_dim)\n",
        "        self.embedding = bert_emb\n",
        "        self.embedding.weight.requires_grad_(False)\n",
        "\n",
        "        self.lstm = nn.LSTM(\n",
        "            input_size=embed_dim * 2,\n",
        "            hidden_size=hidden_dim,\n",
        "            batch_first=True,\n",
        "            bidirectional=False\n",
        "        )\n",
        "\n",
        "        self.res_proj = nn.Linear(embed_dim * 2, hidden_dim, bias=False)\n",
        "        self.dropout = nn.Dropout(dropout_rate)\n",
        "        self.fc = nn.Linear(hidden_dim, vocab_size)\n",
        "\n",
        "    def forward(self, img_feat, input_ids):\n",
        "        img_emb = self.img_fc(img_feat)\n",
        "        txt_emb = self.embedding(input_ids)\n",
        "        seq_len = input_ids.size(1)\n",
        "\n",
        "        img_emb_expanded = img_emb.unsqueeze(1).expand(-1, seq_len, -1)\n",
        "        combined = torch.cat([txt_emb, img_emb_expanded], dim=-1)\n",
        "\n",
        "        lstm_out, _ = self.lstm(combined)\n",
        "        out = lstm_out + self.res_proj(combined)  # residual connection\n",
        "        out = self.dropout(out)\n",
        "        return self.fc(out)"
      ],
      "metadata": {
        "colab": {
          "base_uri": "https://localhost:8080/",
          "height": 49,
          "referenced_widgets": [
            "f8ced45ffd0f47fdb18ac83a26fc5905",
            "da03d8849da74e59924c3f3552153702",
            "d656f5d2595448e9bbdf61b1dd5623ad",
            "f138a057593f4714b31a8773ca1ff05a",
            "6d0f0d3930b14c67a5fab4bc137cb35f",
            "12aa4b98ecff450bb4cc2a13067ebc58",
            "64f6ad24f7d7404c94e67a05dddf89aa",
            "95c61fd1a4a049d5b3bcbe035b452398",
            "e13329482f984fbc85e6782b07740252",
            "78cf7bc4eadf4697823b9a8f8f5578bc",
            "ea1dcc58ce1e4b11891c6ec3e94e04e0"
          ]
        },
        "id": "33SKhqdVtw9v",
        "outputId": "9c2d4207-6592-48f3-892b-7b9aa3d6d010"
      },
      "execution_count": null,
      "outputs": [
        {
          "output_type": "display_data",
          "data": {
            "text/plain": [
              "model.safetensors:   0%|          | 0.00/440M [00:00<?, ?B/s]"
            ],
            "application/vnd.jupyter.widget-view+json": {
              "version_major": 2,
              "version_minor": 0,
              "model_id": "f8ced45ffd0f47fdb18ac83a26fc5905"
            }
          },
          "metadata": {}
        }
      ]
    },
    {
      "cell_type": "code",
      "source": [
        "vocab_size = tokenizer.vocab_size\n",
        "model = BERTUniLSTMResidual(\n",
        "    img_feat_dim=IMG_FEAT_DIM,\n",
        "    embed_dim=bert_emb.embedding_dim,\n",
        "    hidden_dim=512,\n",
        "    vocab_size=tokenizer.vocab_size,\n",
        "    max_len=max_length\n",
        ")\n",
        "\n",
        "# device = torch.device(\"cuda\" if torch.cuda.is_available() else \"cpu\")\n",
        "model.to(device)\n",
        "\n",
        "# optimizer = optim.Adam(model.parameters(), lr=1e-4)\n",
        "# criterion = nn.CrossEntropyLoss()"
      ],
      "metadata": {
        "colab": {
          "base_uri": "https://localhost:8080/"
        },
        "id": "39Xri8z8usUd",
        "outputId": "cf81664f-eb98-4818-b4a1-230a22048bb1"
      },
      "execution_count": null,
      "outputs": [
        {
          "output_type": "execute_result",
          "data": {
            "text/plain": [
              "BERTUniLSTMResidual(\n",
              "  (img_fc): Linear(in_features=1024, out_features=768, bias=True)\n",
              "  (embedding): Embedding(30522, 768, padding_idx=0)\n",
              "  (lstm): LSTM(1536, 512, batch_first=True)\n",
              "  (res_proj): Linear(in_features=1536, out_features=512, bias=False)\n",
              "  (dropout): Dropout(p=0.5, inplace=False)\n",
              "  (fc): Linear(in_features=512, out_features=30522, bias=True)\n",
              ")"
            ]
          },
          "metadata": {},
          "execution_count": 21
        }
      ]
    },
    {
      "cell_type": "code",
      "source": [
        "optimizer = torch.optim.AdamW(model.parameters(), lr=3e-4, weight_decay=1e-2)\n",
        "scheduler = torch.optim.lr_scheduler.ReduceLROnPlateau(optimizer, mode='min',\n",
        "                                                       patience=2, factor=0.3)\n",
        "criterion  = nn.CrossEntropyLoss(ignore_index=tokenizer.pad_token_id)\n",
        "\n",
        "num_epochs = 10\n",
        "clip_value = 5.0\n",
        "\n",
        "for epoch in range(1, num_epochs + 1):\n",
        "    model.train()\n",
        "    running_loss = 0.0\n",
        "\n",
        "    for (img_feat, input_ids), target in tqdm(train_loader, desc=f\"Epoch {epoch}/{num_epochs}\"):\n",
        "        img_feat, input_ids, target = img_feat.to(device), input_ids.to(device), target.to(device)\n",
        "\n",
        "        optimizer.zero_grad()\n",
        "        logits = model(img_feat, input_ids)               # (B, L, vocab)\n",
        "        logits = logits.view(-1, logits.size(-1))         # (B*L, vocab)\n",
        "        target = target.view(-1)                          # (B*L,)\n",
        "\n",
        "        loss = criterion(logits, target)\n",
        "        loss.backward()\n",
        "        torch.nn.utils.clip_grad_norm_(model.parameters(), clip_value)\n",
        "        optimizer.step()\n",
        "\n",
        "        running_loss += loss.item()\n",
        "\n",
        "    avg_loss = running_loss / len(train_loader)\n",
        "    print(f\"Epoch {epoch}: loss = {avg_loss:.4f}\")\n",
        "    scheduler.step(avg_loss)\n"
      ],
      "metadata": {
        "colab": {
          "base_uri": "https://localhost:8080/"
        },
        "id": "OCpGFuqZuzIa",
        "outputId": "247f80f5-e9eb-406d-87c4-5d2cf92b73d8"
      },
      "execution_count": null,
      "outputs": [
        {
          "output_type": "stream",
          "name": "stderr",
          "text": [
            "Epoch 1/10: 100%|██████████| 5057/5057 [02:00<00:00, 41.92it/s]\n"
          ]
        },
        {
          "output_type": "stream",
          "name": "stdout",
          "text": [
            "Epoch 1: loss = 5.4091\n"
          ]
        },
        {
          "output_type": "stream",
          "name": "stderr",
          "text": [
            "Epoch 2/10: 100%|██████████| 5057/5057 [01:56<00:00, 43.39it/s]\n"
          ]
        },
        {
          "output_type": "stream",
          "name": "stdout",
          "text": [
            "Epoch 2: loss = 4.5518\n"
          ]
        },
        {
          "output_type": "stream",
          "name": "stderr",
          "text": [
            "Epoch 3/10: 100%|██████████| 5057/5057 [01:56<00:00, 43.54it/s]\n"
          ]
        },
        {
          "output_type": "stream",
          "name": "stdout",
          "text": [
            "Epoch 3: loss = 4.2651\n"
          ]
        },
        {
          "output_type": "stream",
          "name": "stderr",
          "text": [
            "Epoch 4/10: 100%|██████████| 5057/5057 [01:56<00:00, 43.53it/s]\n"
          ]
        },
        {
          "output_type": "stream",
          "name": "stdout",
          "text": [
            "Epoch 4: loss = 4.0963\n"
          ]
        },
        {
          "output_type": "stream",
          "name": "stderr",
          "text": [
            "Epoch 5/10: 100%|██████████| 5057/5057 [01:56<00:00, 43.51it/s]\n"
          ]
        },
        {
          "output_type": "stream",
          "name": "stdout",
          "text": [
            "Epoch 5: loss = 3.9757\n"
          ]
        },
        {
          "output_type": "stream",
          "name": "stderr",
          "text": [
            "Epoch 6/10: 100%|██████████| 5057/5057 [01:56<00:00, 43.51it/s]\n"
          ]
        },
        {
          "output_type": "stream",
          "name": "stdout",
          "text": [
            "Epoch 6: loss = 3.8884\n"
          ]
        },
        {
          "output_type": "stream",
          "name": "stderr",
          "text": [
            "Epoch 7/10: 100%|██████████| 5057/5057 [01:56<00:00, 43.56it/s]\n"
          ]
        },
        {
          "output_type": "stream",
          "name": "stdout",
          "text": [
            "Epoch 7: loss = 3.8171\n"
          ]
        },
        {
          "output_type": "stream",
          "name": "stderr",
          "text": [
            "Epoch 8/10: 100%|██████████| 5057/5057 [01:57<00:00, 42.99it/s]\n"
          ]
        },
        {
          "output_type": "stream",
          "name": "stdout",
          "text": [
            "Epoch 8: loss = 3.7514\n"
          ]
        },
        {
          "output_type": "stream",
          "name": "stderr",
          "text": [
            "Epoch 9/10: 100%|██████████| 5057/5057 [01:55<00:00, 43.60it/s]\n"
          ]
        },
        {
          "output_type": "stream",
          "name": "stdout",
          "text": [
            "Epoch 9: loss = 3.7060\n"
          ]
        },
        {
          "output_type": "stream",
          "name": "stderr",
          "text": [
            "Epoch 10/10: 100%|██████████| 5057/5057 [01:56<00:00, 43.38it/s]"
          ]
        },
        {
          "output_type": "stream",
          "name": "stdout",
          "text": [
            "Epoch 10: loss = 3.6615\n"
          ]
        },
        {
          "output_type": "stream",
          "name": "stderr",
          "text": [
            "\n"
          ]
        }
      ]
    },
    {
      "cell_type": "code",
      "source": [
        "import torch\n",
        "import torch.nn.functional as F\n",
        "\n",
        "def generate_caption(\n",
        "    model,\n",
        "    tokenizer,\n",
        "    image_feature,          # numpy array یا torch.Tensor  با ابعاد (1, F) یا (F,)\n",
        "    device=\"cpu\",\n",
        "    max_length=30,\n",
        "    top_k=1                 # =1 ⟺ greedy؛ عدد بزرگ‌تر ⇒ sampling\n",
        "):\n",
        "    \"\"\"\n",
        "    خروجی: رشتهٔ کپشن (بدون [CLS]/[SEP])\n",
        "    \"\"\"\n",
        "    model.eval()\n",
        "\n",
        "    # 1) آماده‌سازی فیچر تصویر → Tensor (1, F)\n",
        "    if isinstance(image_feature, torch.Tensor):\n",
        "        img = image_feature.squeeze()\n",
        "    else:                              # numpy یا لیست\n",
        "        img = torch.tensor(image_feature, dtype=torch.float32).squeeze()\n",
        "    if img.dim() == 1:\n",
        "        img = img.unsqueeze(0)         # (1, F)\n",
        "    img = img.to(device)\n",
        "\n",
        "    # 2) دنبالهٔ اولیه با [CLS]\n",
        "    seq_ids = [tokenizer.cls_token_id or 101]\n",
        "\n",
        "    with torch.no_grad():\n",
        "        for _ in range(max_length):\n",
        "            seq_tensor = torch.tensor([seq_ids],\n",
        "                                      dtype=torch.long,\n",
        "                                      device=device)          # (1, L)\n",
        "\n",
        "            # 3) پیش‌بینی توکن بعدی\n",
        "            logits = model(img, seq_tensor)                   # (1, L, vocab)\n",
        "            next_logits = logits[:, -1, :]                    # (1, vocab)\n",
        "\n",
        "            if top_k == 1:                                    # Greedy\n",
        "                next_id = torch.argmax(next_logits, dim=-1).item()\n",
        "            else:                                             # Top‑k sampling\n",
        "                vals, idxs = torch.topk(next_logits, k=top_k, dim=-1)\n",
        "                probs = F.softmax(vals, dim=-1)\n",
        "                next_id = idxs[0, torch.multinomial(probs, 1)].item()\n",
        "\n",
        "            # پایان\n",
        "            if next_id == (tokenizer.sep_token_id or 102):\n",
        "                break\n",
        "\n",
        "            seq_ids.append(next_id)\n",
        "\n",
        "    # 4) تبدیل آیدی‌ها به جمله (بدون CLS/SEP)\n",
        "    caption = tokenizer.decode(seq_ids[1:], skip_special_tokens=True)\n",
        "    return caption\n"
      ],
      "metadata": {
        "id": "9OkQvh0HVJWI"
      },
      "execution_count": null,
      "outputs": []
    },
    {
      "cell_type": "code",
      "source": [
        "test_feat = output_dict[\"23445819_3a458716c1.jpg\"]   # ← یک آرایهٔ (1, F)\n",
        "caption = generate_caption(model, tokenizer, test_feat,\n",
        "                           device=device, max_length=30, top_k=3)\n",
        "print(caption)\n"
      ],
      "metadata": {
        "colab": {
          "base_uri": "https://localhost:8080/"
        },
        "id": "GmD44TDPvWK7",
        "outputId": "de696243-cf6a-4bf9-83c7-2466cb8efc06"
      },
      "execution_count": null,
      "outputs": [
        {
          "output_type": "stream",
          "name": "stdout",
          "text": [
            "puppies in its mouth wide open in the grass in the grass with his mouth open in its mouth open in its mouth open field in the grass and\n"
          ]
        }
      ]
    },
    {
      "cell_type": "code",
      "source": [
        "test_feat = output_dict[\"23445819_3a458716c1.jpg\"]   # ← یک آرایهٔ (1, F)\n",
        "caption = generate_caption(model, tokenizer, test_feat,\n",
        "                           device=device, max_length=30, top_k=3)\n",
        "print(caption)\n"
      ],
      "metadata": {
        "colab": {
          "base_uri": "https://localhost:8080/"
        },
        "id": "8yJNTbpzVMy_",
        "outputId": "0565110f-e16e-4ac1-d411-5739941bd7e9"
      },
      "execution_count": null,
      "outputs": [
        {
          "output_type": "stream",
          "name": "stdout",
          "text": [
            "collie catches tennis ball in its mouth in the grass with his puppies its mouth wide open field in its mouth open to catch red ball in the\n"
          ]
        }
      ]
    },
    {
      "cell_type": "code",
      "source": [
        "test_feat = output_dict[\"23445819_3a458716c1.jpg\"]   # ← یک آرایهٔ (1, F)\n",
        "caption = generate_caption(model, tokenizer, test_feat,\n",
        "                           device=device, max_length=30, top_k=3)\n",
        "print(caption)\n"
      ],
      "metadata": {
        "colab": {
          "base_uri": "https://localhost:8080/"
        },
        "id": "Civ4vinYm-jv",
        "outputId": "b2511877-9ad3-41d9-8a08-808501bea83b"
      },
      "execution_count": null,
      "outputs": [
        {
          "output_type": "stream",
          "name": "stdout",
          "text": [
            "puppies in the grass with his puppies in the grass with his mouth wide open in the grass with white dog in the grass with his mouth open\n"
          ]
        }
      ]
    },
    {
      "cell_type": "code",
      "source": [
        "test_feat = output_dict[\"23445819_3a458716c1.jpg\"]   # ← یک آرایهٔ (1, F)\n",
        "caption = generate_caption(model, tokenizer, test_feat,\n",
        "                           device=device, max_length=30, top_k=3)\n",
        "print(caption)\n"
      ],
      "metadata": {
        "colab": {
          "base_uri": "https://localhost:8080/"
        },
        "id": "nJpTTad2m_IT",
        "outputId": "0c9625f8-be0d-4c41-93a5-2f8df6c31d53"
      },
      "execution_count": null,
      "outputs": [
        {
          "output_type": "stream",
          "name": "stdout",
          "text": [
            "puppies and white dog in the grass and white dog in the grass in field of the grass and puppies in the grass and white dog catching the\n"
          ]
        }
      ]
    },
    {
      "cell_type": "code",
      "source": [
        "test_feat = output_dict[\"103106960_e8a41d64f8.jpg\"]   # ← یک آرایهٔ (1, F)\n",
        "caption = generate_caption(model, tokenizer, test_feat,\n",
        "                           device=device, max_length=30, top_k=3)\n",
        "print(caption)\n"
      ],
      "metadata": {
        "colab": {
          "base_uri": "https://localhost:8080/"
        },
        "id": "bZGGSAh7VQ7g",
        "outputId": "3266aaec-7694-42b1-d2c9-ef9ee028f91d"
      },
      "execution_count": null,
      "outputs": [
        {
          "output_type": "stream",
          "name": "stdout",
          "text": [
            "goalie in the air on the ice skating on the goalie in the goal goal goal in the background of goalie in the background watches from the\n"
          ]
        }
      ]
    },
    {
      "cell_type": "code",
      "source": [
        "test_feat = output_dict[\"131632409_4de0d4e710.jpg\"]   # ← یک آرایهٔ (1, F)\n",
        "caption = generate_caption(model, tokenizer, test_feat,\n",
        "                           device=device, max_length=30, top_k=3)\n",
        "print(caption)\n"
      ],
      "metadata": {
        "colab": {
          "base_uri": "https://localhost:8080/"
        },
        "id": "5LPb0BESVScQ",
        "outputId": "3bb5bb9e-fc82-4156-e046-1733e3c637f9"
      },
      "execution_count": null,
      "outputs": [
        {
          "output_type": "stream",
          "name": "stdout",
          "text": [
            "floral pauses pauses stuffed animalside stuffed animal earring towel towel towelcanck knife towelcan towelesbee thrown towel towel toweles stuffed animal towelcan\n"
          ]
        }
      ]
    },
    {
      "cell_type": "code",
      "source": [
        "test_feat = output_dict[\"12830823_87d2654e31.jpg\"]   # ← یک آرایهٔ (1, F)\n",
        "caption = generate_caption(model, tokenizer, test_feat,\n",
        "                           device=device, max_length=30, top_k=3)\n",
        "print(caption)\n"
      ],
      "metadata": {
        "id": "wSkLdEsmYRDH",
        "colab": {
          "base_uri": "https://localhost:8080/"
        },
        "outputId": "d9c46ab6-6389-4611-fefc-e8713069b077"
      },
      "execution_count": null,
      "outputs": [
        {
          "output_type": "stream",
          "name": "stdout",
          "text": [
            "##s and child in blue shorts and white shirt and backpacks are playing in the street with the water and watch from the other people watch them in the\n"
          ]
        }
      ]
    },
    {
      "cell_type": "code",
      "source": [
        "test_feat = output_dict[\"10815824_2997e03d76.jpg\"]   # ← یک آرایهٔ (1, F)\n",
        "caption = generate_caption(model, tokenizer, test_feat,\n",
        "                           device=device, max_length=30, top_k=3)\n",
        "print(caption)\n"
      ],
      "metadata": {
        "colab": {
          "base_uri": "https://localhost:8080/"
        },
        "id": "3qL8NliZz3JY",
        "outputId": "34bc538e-4f17-4985-b32a-7f880cd06950"
      },
      "execution_count": null,
      "outputs": [
        {
          "output_type": "stream",
          "name": "stdout",
          "text": [
            "##r is riding horses on the ground with his mouth open in the background in field of the background of them fire on the ground with the other people in\n"
          ]
        }
      ]
    },
    {
      "cell_type": "code",
      "source": [
        "test_feat = output_dict[\"49553964_cee950f3ba.jpg\"]   # ← یک آرایهٔ (1, F)\n",
        "caption = generate_caption(model, tokenizer, test_feat,\n",
        "                           device=device, max_length=30, top_k=3)\n",
        "print(caption)\n"
      ],
      "metadata": {
        "colab": {
          "base_uri": "https://localhost:8080/"
        },
        "id": "LKQcJzFS0M5B",
        "outputId": "9abf1643-6dc6-4b91-cb23-332f60387f79"
      },
      "execution_count": null,
      "outputs": [
        {
          "output_type": "stream",
          "name": "stdout",
          "text": [
            "waterskier is pulled up in the water with stick in the water and the ocean on the water while the ocean in the water and red paddles\n"
          ]
        }
      ]
    },
    {
      "cell_type": "code",
      "source": [
        "test_feat = output_dict[\"113678030_87a6a6e42e.jpg\"]   # ← یک آرایهٔ (1, F)\n",
        "caption = generate_caption(model, tokenizer, test_feat,\n",
        "                           device=device, max_length=30, top_k=3)\n",
        "print(caption)"
      ],
      "metadata": {
        "colab": {
          "base_uri": "https://localhost:8080/"
        },
        "id": "qHA8WI8A0fs8",
        "outputId": "47fcfc84-bf22-476b-ca23-9a8b27eafb78"
      },
      "execution_count": null,
      "outputs": [
        {
          "output_type": "stream",
          "name": "stdout",
          "text": [
            "skier in white jacket is jumping on the snow covered mountain in front of snowboard on the snow covered mountain range in the background and white skis down\n"
          ]
        }
      ]
    },
    {
      "cell_type": "code",
      "source": [
        "test_feat = output_dict[\"166654939_80ea4ddbcc.jpg\"]   # ← یک آرایهٔ (1, F)\n",
        "caption = generate_caption(model, tokenizer, test_feat,\n",
        "                           device=device, max_length=30, top_k=3)\n",
        "print(caption)\n"
      ],
      "metadata": {
        "colab": {
          "base_uri": "https://localhost:8080/"
        },
        "id": "G6ls3Fpf0xXe",
        "outputId": "a7a995f9-bcda-437f-d212-dd664c48cd8e"
      },
      "execution_count": null,
      "outputs": [
        {
          "output_type": "stream",
          "name": "stdout",
          "text": [
            "cars racing down dirt road in front of the street with cars in the background with cars and cars in front of the horizon with the background is in the\n"
          ]
        }
      ]
    },
    {
      "cell_type": "code",
      "source": [
        "test_feat = output_dict[\"221973402_ecb1cd51f1.jpg\"]   # ← یک آرایهٔ (1, F)\n",
        "caption = generate_caption(model, tokenizer, test_feat,\n",
        "                           device=device, max_length=30, top_k=3)\n",
        "print(caption)\n"
      ],
      "metadata": {
        "colab": {
          "base_uri": "https://localhost:8080/"
        },
        "id": "gKyIQT4l2dXq",
        "outputId": "73e10d11-989c-494a-e923-93b22b759edb"
      },
      "execution_count": null,
      "outputs": [
        {
          "output_type": "stream",
          "name": "stdout",
          "text": [
            "girl with red shirt and red shirt is walking down the grass with his dog in red shirt is jumping on the water with red frisbee on his\n"
          ]
        }
      ]
    },
    {
      "cell_type": "code",
      "source": [],
      "metadata": {
        "id": "VZb5AcSm24Qw"
      },
      "execution_count": null,
      "outputs": []
    }
  ]
}